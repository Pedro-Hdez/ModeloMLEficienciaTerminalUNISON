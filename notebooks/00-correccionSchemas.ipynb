{
 "cells": [
  {
   "cell_type": "markdown",
   "metadata": {},
   "source": [
    "# Corrección de Schemas\n",
    "\n",
    "En el repositorio de datos existen conjuntos de archivos que contienen información acerca de un mismo grupo de variables, por ejemplo, un conjunto para la información de los estudiantes admitidos anualmente y otro para la información de las solicitudes de nuevo ingreso por cada año. Sin embargo, se han detectado inconsistencias entre las variables aún entre archivos de un mismo conjunto. Por ello, es importante estandarizar estos identificadores, asignarles un tipo de dato correcto a cada variable y, en caso de ser necesario, reemplazar estos identificadores con nombres más fáciles de interpretar o eliminar por completo algunas variables.\n",
    "\n",
    "En esta libreta se expone el procedimiento automático para obtener y almacenar los Schemas originales de cada archivo de interés. Cabe destacar que el procedimiento para renombrar y eliminar variables se realizará manualmente basándose en el conocimiento experto transferido por los responsables de la generación de los archivos; además, este proceso se ejecuta una única vez."
   ]
  },
  {
   "cell_type": "markdown",
   "metadata": {},
   "source": [
    "## Descripción del proceso\n",
    "\n",
    "El proceso de corrección de los Schemas se compone de los siguientes pasos:\n",
    "\n",
    "1. Descargar el archivo desde el repositorio privado de datos de la Universidad\n",
    "2. Obtener su Schema (identificadores originales de las columnas y sus tipos de dato)\n",
    "3. Guardar el Schema original\n",
    "4. Renombrar y eliminar columnas basándose en el conocimiento experto *\n",
    "5. Guardar el Schema corregido *\n",
    "\n",
    "\\* Estos pasos se ejecutarán manualmente"
   ]
  },
  {
   "cell_type": "markdown",
   "metadata": {},
   "source": [
    "# Dependencias"
   ]
  },
  {
   "cell_type": "code",
   "execution_count": 1,
   "metadata": {},
   "outputs": [],
   "source": [
    "import os\n",
    "import pandas as pd\n",
    "import sys\n",
    "import json\n",
    "sys.path.append('../')\n",
    "from modul\n",
    "# Credenciales\n",
    "creds = json.load(open('../secrets/credentials.json'))\n",
    "USER = creds['username']\n",
    "PASSWORD = creds['password']\n",
    "\n",
    "# Archivos a descargar\n",
    "files = json.load(open('../secrets/files.json'))"
   ]
  },
  {
   "cell_type": "code",
   "execution_count": 2,
   "metadata": {},
   "outputs": [],
   "source": [
    "# Se itera cada conjunto de archivos\n",
    "for conjunto in files.keys():\n",
    "    # Se revisa si la carpeta de schemas originales para el conjunto actual \n",
    "    # existe, si no, se crea\n",
    "    schemaOriginalFolder_path = f'../schemas/{conjunto}/original'\n",
    "    if not os.path.exists(schemaOriginalFolder_path):\n",
    "        os.makedirs(schemaOriginalFolder_path)\n",
    "    # Se iteran todos los archivos de dicho conjunto\n",
    "    for f in files[conjunto].keys():\n",
    "        # Se revisa si el schema ya existe, si no, el archivo original se descarga, se lee\n",
    "        # su schema original y se almacena en la carpeta correspondiente\n",
    "        schemaFile_path = f'{schemaOriginalFolder_path}/{f}.xlsx'\n",
    "        if not os.path.exists(schemaFile_path):\n",
    "            df = xlsxUrlToDf(files[conjunto][f], USER, PASSWORD)\n",
    "            dfSchema = pd.DataFrame(df.dtypes).reset_index().set_axis(['original','tipo'], axis=1)\n",
    "            dfSchema.to_excel(schemaFile_path, index=False)"
   ]
  }
 ],
 "metadata": {
  "kernelspec": {
   "display_name": "Python 3 (ipykernel)",
   "language": "python",
   "name": "python3"
  },
  "language_info": {
   "codemirror_mode": {
    "name": "ipython",
    "version": 3
   },
   "file_extension": ".py",
   "mimetype": "text/x-python",
   "name": "python",
   "nbconvert_exporter": "python",
   "pygments_lexer": "ipython3",
   "version": "3.10.13"
  },
  "vscode": {
   "interpreter": {
    "hash": "616e5bb9d2ba2f1208497effc25f4ebc5e0ad553b2a26480dd09af8b3c6a242e"
   }
  }
 },
 "nbformat": 4,
 "nbformat_minor": 2
}
